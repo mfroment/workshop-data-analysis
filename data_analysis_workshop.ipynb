{
 "cells": [
  {
   "cell_type": "markdown",
   "metadata": {
    "colab_type": "text",
    "id": "Z1Xh4PwpKmDA",
    "slideshow": {
     "slide_type": "slide"
    }
   },
   "source": [
    "# Data Science Workshop: Data Analysis with Python\n",
    "#### Learning the basics of Data Analysis using Python, Numpy and Pandas\n",
    "\n",
    "### Setup: https://info.lewagon.com/tokyo-data-analysis\n",
    "\n",
    "![https://info.lewagon.com/tokyo-data-analysis](assets/qrcode.jpg)\n",
    "\n",
    "By [Trouni Tiet](https://linkedin.com/in/trouni) for [Le Wagon Tokyo](https://www.lewagon.com/tokyo)"
   ]
  },
  {
   "cell_type": "markdown",
   "metadata": {
    "slideshow": {
     "slide_type": "slide"
    }
   },
   "source": [
    "## Introduction about this notebook\n",
    "\n",
    "A Jupyter Notebook (or Colab Notebook) is a document format that combines the strengths of a word processor, a spreadsheet software and most importantly, a code editor/environment. **This notebook document allows executable code and nicely formatted text, tables and charts to live side-by-side.** Python code can be written and executed within a clear and detailed context describing the thought process and implementation of a data science project."
   ]
  },
  {
   "cell_type": "markdown",
   "metadata": {
    "slideshow": {
     "slide_type": "subslide"
    }
   },
   "source": [
    "### Why not Excel for Data Science?"
   ]
  },
  {
   "cell_type": "markdown",
   "metadata": {
    "slideshow": {
     "slide_type": "fragment"
    }
   },
   "source": [
    "![When Excel crashes...](assets/excelcrash.jpg \"When Excel crashes...\")"
   ]
  },
  {
   "cell_type": "markdown",
   "metadata": {
    "colab_type": "text",
    "id": "e7QgFhC4E4fn",
    "slideshow": {
     "slide_type": "subslide"
    }
   },
   "source": [
    "- Excel can't work with large datasets (try to open [one of these datasets](https://www.who.int/healthinfo/statistics/mortality_rawdata/en/) with 2M+ rows)\n",
    "- Painful to combine multiple files in Excel (now try to concatenate two of the datasets above!)\n",
    "- Pull data from the web/APIs\n",
    "- Python!"
   ]
  },
  {
   "cell_type": "markdown",
   "metadata": {
    "slideshow": {
     "slide_type": "subslide"
    }
   },
   "source": [
    "### How does this notebook work?\n",
    "\n",
    "The cell below is a code cell. To run the code within it, first select it then click the play icon on the left, or **simply hit `[shift] + [enter]`**."
   ]
  },
  {
   "cell_type": "code",
   "execution_count": null,
   "metadata": {
    "colab": {},
    "colab_type": "code",
    "id": "7dfPo6WLF_xf",
    "slideshow": {
     "slide_type": "-"
    }
   },
   "outputs": [],
   "source": [
    "print(\"That is some fancy piece of code!\")\n",
    "print(\"1 + 1 makes\", 1 + 1)"
   ]
  },
  {
   "cell_type": "markdown",
   "metadata": {
    "slideshow": {
     "slide_type": "notes"
    }
   },
   "source": [
    "You have just executed some Python code! Below the code cell, you should have the following result:\n",
    "> ```\n",
    "That is some fancy piece of code!\n",
    "1 + 1 makes 2\n",
    "```\n",
    "\n",
    "Please note that the code in a cell is only executed when you run the cell, which means you can choose to run cells in the notebook in any order that you wish. It means the physical order of where the code appears in the notebook does not necessarily determine the order of when it is run. Because the variables in your coding environment change everytime a cell is run, the same cell may return different results depending on the order of execution.\n",
    "\n",
    "> **Make sure to run each cell while you go through this notebook.**\n",
    "\n",
    "If you think you are not getting the expected results and would like to reset your notebook, just click in the toolbar on `Runtime > Restart runtime...`. Then execute each cell in order of appearance in the document, from top to bottom.\n",
    "\n",
    "And now..."
   ]
  },
  {
   "cell_type": "markdown",
   "metadata": {
    "colab_type": "text",
    "id": "LXhoOd_-GE1G",
    "slideshow": {
     "slide_type": "slide"
    }
   },
   "source": [
    "## Let's get started!\n",
    "\n",
    "The cell below imports Python libraries that we will be using in our project. They allow us to utilize useful functions to process and analyse our data.\n",
    "\n",
    "Basically every data science notebook will start with a cell like that one. Make sure you run it first!"
   ]
  },
  {
   "cell_type": "markdown",
   "metadata": {
    "slideshow": {
     "slide_type": "skip"
    }
   },
   "source": [
    "> **Reminder:**  \n",
    "> Select the cell and press `[shift] + [enter]` to run it."
   ]
  },
  {
   "cell_type": "code",
   "execution_count": null,
   "metadata": {
    "colab": {},
    "colab_type": "code",
    "id": "ovHwfixnK3P6",
    "slideshow": {
     "slide_type": "-"
    }
   },
   "outputs": [],
   "source": [
    "import numpy as np                   # Python Math library\n",
    "import pandas as pd                  # Python Data Analysis library  \n",
    "%matplotlib inline\n",
    "from matplotlib import pyplot        # Library to plot charts"
   ]
  },
  {
   "cell_type": "markdown",
   "metadata": {
    "slideshow": {
     "slide_type": "subslide"
    }
   },
   "source": [
    "### How to find a dataset?\n",
    "\n",
    "There are a lot of great sources to obtain data on the web. For example, many datasets are available on [Kaggle](https://www.kaggle.com/datasets) and [GitHub](https://github.com/awesomedata/awesome-public-datasets)"
   ]
  },
  {
   "cell_type": "markdown",
   "metadata": {
    "slideshow": {
     "slide_type": "subslide"
    }
   },
   "source": [
    "Today, we will be working with this dataset by Johns Hopkins CSSE ([2019 Novel Coronavirus COVID-19 (2019-nCoV) Data Repository](https://github.com/CSSEGISandData/COVID-19)) which contains daily updated numbers on the COVID-19 outbreak. This dataset is publicly available on GitHub."
   ]
  },
  {
   "cell_type": "markdown",
   "metadata": {
    "colab_type": "text",
    "id": "2qbOfECKL9kE",
    "slideshow": {
     "slide_type": "subslide"
    }
   },
   "source": [
    "### Importing data from the web"
   ]
  },
  {
   "cell_type": "markdown",
   "metadata": {
    "slideshow": {
     "slide_type": "notes"
    }
   },
   "source": [
    "This is a good way to showcase how useful notebooks can be in comparison to a traditional spreadsheet... We can very simply write a few lines of Python code to **automatically download our dataset from the web or APIs**. In this case, we are downloading csv files from a GitHub repository. Even though are updated daily, we can simply re-run the cell to fetch the latest version of the data."
   ]
  },
  {
   "cell_type": "code",
   "execution_count": null,
   "metadata": {
    "colab": {
     "base_uri": "https://localhost:8080/",
     "height": 85
    },
    "colab_type": "code",
    "id": "shs-m6nKL4Gq",
    "outputId": "c4d47bd0-1508-4dfc-ce0d-6dd9c0804d0a",
    "slideshow": {
     "slide_type": "fragment"
    }
   },
   "outputs": [],
   "source": [
    "import os, requests\n",
    "\n",
    "# The csv files we will download from GitHub\n",
    "filenames = [\"time_series_19-covid-Confirmed.csv\", \"time_series_19-covid-Deaths.csv\", \"time_series_19-covid-Recovered.csv\"]\n",
    "url = \"https://raw.githubusercontent.com/CSSEGISandData/COVID-19/master/csse_covid_19_data/csse_covid_19_time_series/\"\n",
    "\n",
    "# Creating a /data directory for our notebook\n",
    "if not os.path.exists('data'):\n",
    "    os.mkdir('data')\n",
    "\n",
    "# Downloading the csv files in /data\n",
    "for filename in filenames:\n",
    "    print(f\"Downloading {filename}...\")\n",
    "    r = requests.get(url + filename, allow_redirects=True)\n",
    "    open('data/' + filename, 'wb').write(r.content)\n",
    "    \n",
    "print(\"Download complete.\")"
   ]
  },
  {
   "cell_type": "markdown",
   "metadata": {
    "colab_type": "text",
    "id": "mtscj1wrBojr",
    "slideshow": {
     "slide_type": "slide"
    }
   },
   "source": [
    "## Our first DataFrame\n",
    "\n",
    "A DataFrame is a pandas object that we can manipulate using pandas functions. Think of it like a code representation of an excel spreadsheet.\n",
    "\n",
    "Let's create a DataFrame by loading our first CSV file into our notebook! You can do this with the `read_csv` function.\n",
    "\n",
    "```python\n",
    "pd.read_csv(filepath)\n",
    "```"
   ]
  },
  {
   "cell_type": "code",
   "execution_count": null,
   "metadata": {
    "colab": {},
    "colab_type": "code",
    "id": "h4Ol23w1MDl6",
    "slideshow": {
     "slide_type": "fragment"
    }
   },
   "outputs": [],
   "source": [
    "### TODO ###\n",
    "# Open \"data/time_series_19-covid-Recovered.csv\" using pd.read_csv(filepath)\n",
    "\n",
    "filepath = \"data/time_series_19-covid-Recovered.csv\"\n",
    "recovered_df = # YOUR CODE HERE"
   ]
  },
  {
   "cell_type": "markdown",
   "metadata": {
    "colab_type": "text",
    "id": "-NurnVZ1BuYU",
    "slideshow": {
     "slide_type": "subslide"
    }
   },
   "source": [
    "Let's see what's in our newly created dataframe by calling the variable `recovered_df`:"
   ]
  },
  {
   "cell_type": "code",
   "execution_count": null,
   "metadata": {
    "colab": {
     "base_uri": "https://localhost:8080/",
     "height": 419
    },
    "colab_type": "code",
    "id": "NgReuAFsBq9w",
    "outputId": "243c1440-5960-45b3-9e95-de5b3e18859f",
    "slideshow": {
     "slide_type": "-"
    }
   },
   "outputs": [],
   "source": [
    "### TODO ###\n",
    "# View what is stored in variable recovered_df\n",
    "\n",
    "# YOUR CODE HERE"
   ]
  },
  {
   "cell_type": "markdown",
   "metadata": {
    "colab_type": "text",
    "id": "OuLWQAtTsyOd",
    "slideshow": {
     "slide_type": "subslide"
    }
   },
   "source": [
    "### Getting a feel for the data\n",
    "\n",
    "You can get a basic idea about your DataFrame using these functions:\n",
    "```python\n",
    "dataframe.shape     # Returns the shape of your DataFrame (rows x columns)\n",
    "dataframe.columns   # Returns the list of columns\n",
    "dataframe.dtypes    # Returns the datatypes of each column\n",
    "```"
   ]
  },
  {
   "cell_type": "code",
   "execution_count": null,
   "metadata": {
    "colab": {},
    "colab_type": "code",
    "id": "poXnY6grUM3Y",
    "slideshow": {
     "slide_type": "fragment"
    }
   },
   "outputs": [],
   "source": [
    "### TODO ###\n",
    "# Play around and display the shape, columns and datatypes of recovered_df.\n",
    "\n",
    "# YOUR CODE HERE"
   ]
  },
  {
   "cell_type": "markdown",
   "metadata": {
    "colab_type": "text",
    "id": "5sejH9YxVIze",
    "slideshow": {
     "slide_type": "subslide"
    }
   },
   "source": [
    "Show the first rows using `.head()` and the last rows using `.tail()`. For example:\n",
    "```python\n",
    "dataframe.head()      # Returns the first 5 rows by default\n",
    "dataframe.tail(20)    # Returns the last 20 rows\n",
    "```"
   ]
  },
  {
   "cell_type": "code",
   "execution_count": null,
   "metadata": {
    "colab": {},
    "colab_type": "code",
    "id": "27t6GpuuUrTm",
    "slideshow": {
     "slide_type": "subslide"
    }
   },
   "outputs": [],
   "source": [
    "### TODO ###\n",
    "# Display the last 10 rows of recovered_df.\n",
    "\n",
    "# YOUR CODE HERE"
   ]
  },
  {
   "cell_type": "markdown",
   "metadata": {
    "colab_type": "text",
    "id": "_8nB-CkIV3H7",
    "slideshow": {
     "slide_type": "slide"
    }
   },
   "source": [
    "## Exploring the data"
   ]
  },
  {
   "cell_type": "markdown",
   "metadata": {
    "colab_type": "text",
    "id": "qgzddN6ZtSQT",
    "slideshow": {
     "slide_type": "subslide"
    }
   },
   "source": [
    "### Getting rows"
   ]
  },
  {
   "cell_type": "markdown",
   "metadata": {
    "slideshow": {
     "slide_type": "-"
    }
   },
   "source": [
    "You can use Python's slice syntax to get rows of a DataFrame. For example:\n",
    "```python\n",
    "dataframe[5:10]   # Returns rows 5 to 9\n",
    "dataframe[:20]    # Returns the first 20 rows (0 to 19)\n",
    "dataframe[::3]    # Returns every third row\n",
    "```\n",
    "\n",
    "**Note:** You can also use negative indexes in Python to count from the end of your slice."
   ]
  },
  {
   "cell_type": "code",
   "execution_count": null,
   "metadata": {
    "colab": {
     "base_uri": "https://localhost:8080/",
     "height": 379
    },
    "colab_type": "code",
    "id": "Au1EX-U-tUP6",
    "outputId": "9f5a6a0a-cf2e-4856-c08f-50f98c880e42",
    "slideshow": {
     "slide_type": "subslide"
    }
   },
   "outputs": [],
   "source": [
    "### TODO ###\n",
    "# Display the last 20 rows of the recovered_df DataFrame.\n",
    "\n",
    "# YOUR CODE HERE"
   ]
  },
  {
   "cell_type": "markdown",
   "metadata": {
    "colab_type": "text",
    "id": "O_LNNE8ytIOj",
    "slideshow": {
     "slide_type": "subslide"
    }
   },
   "source": [
    "### Getting columns"
   ]
  },
  {
   "cell_type": "markdown",
   "metadata": {},
   "source": [
    "DataFrames have similarities with dictionaries (objects/hashes). You can retrieve a column using:\n",
    "\n",
    "```python\n",
    "dataframe[['Column Name']]\n",
    "# Note the double []. Columns are passed as a list.\n",
    "```\n",
    "\n",
    "\n",
    "`dataframe[['Column Name']]` will return a DataFrame, whereas `dataframe['Column Name']` will return a different pandas Object type: a Series."
   ]
  },
  {
   "cell_type": "code",
   "execution_count": null,
   "metadata": {
    "colab": {
     "base_uri": "https://localhost:8080/",
     "height": 419
    },
    "colab_type": "code",
    "id": "0TKAGoMQtKZm",
    "outputId": "ce1ed088-5f66-44f4-d0f0-ea38f03da61e",
    "slideshow": {
     "slide_type": "subslide"
    }
   },
   "outputs": [],
   "source": [
    "### TODO ###\n",
    "# Get the 'Province/State' and 'Country/Region' columns.\n",
    "\n",
    "# YOUR CODE HERE"
   ]
  },
  {
   "cell_type": "markdown",
   "metadata": {
    "colab_type": "text",
    "id": "VQSAkF3PtYxg",
    "slideshow": {
     "slide_type": "subslide"
    }
   },
   "source": [
    "### Getting a cell\n",
    "\n",
    "You can get the value from a specific cell using `.loc[]`:\n",
    "\n",
    "```python\n",
    "dataframe.loc[row_indexer, column_indexer]\n",
    "```"
   ]
  },
  {
   "cell_type": "code",
   "execution_count": null,
   "metadata": {
    "colab": {
     "base_uri": "https://localhost:8080/",
     "height": 34
    },
    "colab_type": "code",
    "id": "oqVY8UJot6oK",
    "outputId": "0a6f8f73-5d80-4690-8c30-ce890a12926b",
    "slideshow": {
     "slide_type": "subslide"
    }
   },
   "outputs": [],
   "source": [
    "### TODO ###\n",
    "# Retrieve the latitude of the Diamond Princess cruise ship (row 71).\n",
    "\n",
    "# YOUR CODE HERE"
   ]
  },
  {
   "cell_type": "markdown",
   "metadata": {
    "colab_type": "text",
    "id": "_G8_b70rcJ2R",
    "slideshow": {
     "slide_type": "subslide"
    }
   },
   "source": [
    "### Filtering rows"
   ]
  },
  {
   "cell_type": "markdown",
   "metadata": {
    "colab_type": "text",
    "id": "gjFmes5WuPaM"
   },
   "source": [
    "#### Boolean indexing\n",
    "\n",
    "We first start by creating a condition on a column, in order to create a boolean mask. Think of this mask as an array mapping each position of your column with either True or False depending on the condition.\n",
    "\n",
    "```python\n",
    "recovered_df[\"Country/Region\"] == \"Japan\"\n",
    "```"
   ]
  },
  {
   "cell_type": "code",
   "execution_count": null,
   "metadata": {
    "colab": {
     "base_uri": "https://localhost:8080/",
     "height": 221
    },
    "colab_type": "code",
    "id": "husO46K9ndKi",
    "outputId": "c70b5f35-1f57-426c-cf97-ffb8bbed4e09",
    "slideshow": {
     "slide_type": "subslide"
    }
   },
   "outputs": [],
   "source": [
    "### TODO ###\n",
    "# Create a boolean mask for the rows with \"Mainland China\" as the \"Country/Region\".\n",
    "\n",
    "# YOUR CODE HERE"
   ]
  },
  {
   "cell_type": "markdown",
   "metadata": {
    "colab_type": "text",
    "id": "J86mFmA4n1qi",
    "slideshow": {
     "slide_type": "subslide"
    }
   },
   "source": [
    "We call this a boolean **mask** because we can now apply this mask to our dataframe and it will only return the rows that were marked True. The other rows (marked False) are now **masked out**."
   ]
  },
  {
   "cell_type": "code",
   "execution_count": null,
   "metadata": {
    "colab": {
     "base_uri": "https://localhost:8080/",
     "height": 1000
    },
    "colab_type": "code",
    "id": "v5rOJcF8oKDe",
    "outputId": "219a69ed-d11f-49a3-954e-a5144ffd7f66",
    "slideshow": {
     "slide_type": "-"
    }
   },
   "outputs": [],
   "source": [
    "### TODO ###\n",
    "# Apply the mask to recovered_df.\n",
    "# Hint: You can apply a mask using dataframe[mask]\n",
    "\n",
    "mask = recovered_df[\"Country/Region\"] == \"Mainland China\"\n",
    "# YOUR CODE HERE"
   ]
  },
  {
   "cell_type": "markdown",
   "metadata": {
    "colab_type": "text",
    "id": "vI74gJYIaGL0",
    "slideshow": {
     "slide_type": "subslide"
    }
   },
   "source": [
    "**Note:** You can use `.str.contains()` to partially match the content of a cell. For example:\n",
    "```python\n",
    "f_mask = recovered_df[\"Country/Region\"].str.contains(\"F\")\n",
    "recovered_df[f_mask]\n",
    "# Will return rows from all countries containing \"F\"\n",
    "# Start your string with '(?i)' to make the search case insensitive\n",
    "```\n",
    "\n"
   ]
  },
  {
   "cell_type": "code",
   "execution_count": null,
   "metadata": {
    "colab": {
     "base_uri": "https://localhost:8080/",
     "height": 475
    },
    "colab_type": "code",
    "id": "inYfBlg1pXN6",
    "outputId": "5e9fa4b2-1f8c-4a59-f5fb-23313fc09d88",
    "slideshow": {
     "slide_type": "subslide"
    }
   },
   "outputs": [],
   "source": [
    "### TODO ###\n",
    "# Get the rows of all countries containing the letter \"t\" (case insensitive).\n",
    "\n",
    "f_mask = # YOUR CODE HERE\n",
    "recovered_df[f_mask]"
   ]
  },
  {
   "cell_type": "markdown",
   "metadata": {
    "colab_type": "text",
    "id": "qS5n5KoTcR4G",
    "slideshow": {
     "slide_type": "subslide"
    }
   },
   "source": [
    "**Note:** You can use `.isin()` to match row values from within a list.\n",
    "```python\n",
    "isin_mask = recovered_df[\"Country/Region\"].isin([\"Japan\", \"US\"])\n",
    "recovered_df[isin_mask]\n",
    "```"
   ]
  },
  {
   "cell_type": "code",
   "execution_count": null,
   "metadata": {
    "colab": {
     "base_uri": "https://localhost:8080/",
     "height": 255
    },
    "colab_type": "code",
    "id": "E1dIGUurceps",
    "outputId": "3c761fbd-254a-4124-dd15-0f1144343981",
    "slideshow": {
     "slide_type": "subslide"
    }
   },
   "outputs": [],
   "source": [
    "### TODO ###\n",
    "# Create a mask to filter countries from this list: \"Australia\", \"France\", \"Singapore\".\n",
    "\n",
    "isin_mask = # YOUR CODE HERE\n",
    "recovered_df[isin_mask]"
   ]
  },
  {
   "cell_type": "markdown",
   "metadata": {
    "colab_type": "text",
    "id": "l7mp-tuJcvQx",
    "slideshow": {
     "slide_type": "subslide"
    }
   },
   "source": [
    "### Filtering columns\n",
    "\n",
    "In addition to directly selecting multiple columns, you can also filter specific columns from your dataframe using:\n",
    "- `.filter(items=['Column Name'])`\n",
    "- `.filter(regex=\"...\")`"
   ]
  },
  {
   "cell_type": "code",
   "execution_count": null,
   "metadata": {
    "colab": {
     "base_uri": "https://localhost:8080/",
     "height": 419
    },
    "colab_type": "code",
    "id": "xUjs8k4ec7IV",
    "outputId": "61fcc48a-6c20-42ae-b964-3eeb0fc1fead",
    "slideshow": {
     "slide_type": "subslide"
    }
   },
   "outputs": [],
   "source": [
    "### TODO ###\n",
    "# Display only these columns: \"Province/State\", \"Country/Region\", \"Lat\" and \"Long\".\n",
    "\n",
    "# YOUR CODE HERE"
   ]
  },
  {
   "cell_type": "code",
   "execution_count": null,
   "metadata": {
    "colab": {
     "base_uri": "https://localhost:8080/",
     "height": 439
    },
    "colab_type": "code",
    "id": "14z18sd_rHaM",
    "outputId": "4ef55a38-c2cd-4bfd-e355-a7176bce134d",
    "slideshow": {
     "slide_type": "subslide"
    }
   },
   "outputs": [],
   "source": [
    "### TODO ###\n",
    "# Display all the date columns using a regular expression.\n",
    "# Hint: The names of all these columns end with \"20\".\n",
    "\n",
    "# YOUR CODE HERE"
   ]
  },
  {
   "cell_type": "markdown",
   "metadata": {
    "colab_type": "text",
    "id": "wXvK0YR9sZFu",
    "slideshow": {
     "slide_type": "slide"
    }
   },
   "source": [
    "## Cleaning up & Formatting the data"
   ]
  },
  {
   "cell_type": "markdown",
   "metadata": {
    "colab_type": "text",
    "id": "LtgbOMCwdXo_",
    "slideshow": {
     "slide_type": "subslide"
    }
   },
   "source": [
    "### Re-indexing"
   ]
  },
  {
   "cell_type": "markdown",
   "metadata": {
    "colab_type": "text",
    "id": "57e3JOeXwQZm"
   },
   "source": [
    "You can re-index your dataframe using `.set_index()`.\n",
    "```python\n",
    "DataFrame.set_index('Column Name')\n",
    "```"
   ]
  },
  {
   "cell_type": "code",
   "execution_count": null,
   "metadata": {
    "colab": {
     "base_uri": "https://localhost:8080/",
     "height": 504
    },
    "colab_type": "code",
    "id": "ko_spS4zdgPA",
    "outputId": "b046da8a-a3e1-4d5a-c9fd-85191e659490",
    "slideshow": {
     "slide_type": "subslide"
    }
   },
   "outputs": [],
   "source": [
    "### TODO ###\n",
    "# Set the 'Country/Region' column as the index.\n",
    "\n",
    "# YOUR CODE HERE"
   ]
  },
  {
   "cell_type": "markdown",
   "metadata": {
    "colab_type": "text",
    "id": "nZUsX9dkf15j",
    "slideshow": {
     "slide_type": "notes"
    }
   },
   "source": [
    "**Note:** You can now also filter rows using a RegEx on the index with `.filter(regex=\"...\")`:\n",
    "```python\n",
    "recovered_df.set_index('Country/Region').filter(regex=\"^A\", axis='rows')\n",
    "```"
   ]
  },
  {
   "cell_type": "markdown",
   "metadata": {
    "colab_type": "text",
    "id": "DF7065zba2GV",
    "slideshow": {
     "slide_type": "subslide"
    }
   },
   "source": [
    "### Remove rows or columns\n",
    "\n",
    "Remove unused rows/columns using `.drop()`.\n",
    "```python\n",
    "dataframe.drop(rows, axis='rows')\n",
    "dataframe.drop(columns, axis='columns')\n",
    "```"
   ]
  },
  {
   "cell_type": "code",
   "execution_count": null,
   "metadata": {
    "colab": {
     "base_uri": "https://localhost:8080/",
     "height": 439
    },
    "colab_type": "code",
    "id": "kc3Rh8ngYG1o",
    "outputId": "f160b6b6-c197-4786-99aa-285fecf2f46f",
    "slideshow": {
     "slide_type": "subslide"
    }
   },
   "outputs": [],
   "source": [
    "### TODO ###\n",
    "# Remove the latitude and longitude columns.\n",
    "\n",
    "# YOUR CODE HERE"
   ]
  },
  {
   "cell_type": "markdown",
   "metadata": {
    "colab_type": "text",
    "id": "0i6ljbx2fD-0",
    "slideshow": {
     "slide_type": "subslide"
    }
   },
   "source": [
    "### Sorting\n",
    "\n",
    "You can sort your rows using `.sort_index()` and `.sort_values()`:\n",
    "- `dataframe.sort_index(ascending=True)`\n",
    "- `dataframe.sort_values('Column Name', ascending=True)`"
   ]
  },
  {
   "cell_type": "code",
   "execution_count": null,
   "metadata": {
    "colab": {
     "base_uri": "https://localhost:8080/",
     "height": 473
    },
    "colab_type": "code",
    "id": "qvYqILyPgPj6",
    "outputId": "19083d92-ea16-4c1a-988d-66c92d48f201",
    "slideshow": {
     "slide_type": "subslide"
    }
   },
   "outputs": [],
   "source": [
    "### TODO ###\n",
    "# Sort the DataFrame by descending index.\n",
    "\n",
    "# YOUR CODE HERE"
   ]
  },
  {
   "cell_type": "code",
   "execution_count": null,
   "metadata": {
    "colab": {
     "base_uri": "https://localhost:8080/",
     "height": 689
    },
    "colab_type": "code",
    "id": "t72ef93uhVDs",
    "outputId": "19af9457-4d1e-44a6-a69e-5767a4b7323e",
    "slideshow": {
     "slide_type": "subslide"
    }
   },
   "outputs": [],
   "source": [
    "### TODO ###\n",
    "# Get the 20 rows with the most recoveries on February 18th, 2020 (= 2/18/20).\n",
    "\n",
    "# YOUR CODE HERE"
   ]
  },
  {
   "cell_type": "markdown",
   "metadata": {
    "slideshow": {
     "slide_type": "subslide"
    }
   },
   "source": [
    "### Aggregating"
   ]
  },
  {
   "cell_type": "markdown",
   "metadata": {},
   "source": [
    "You can perform functions on all rows or columns such as `.sum()`, `.count()` or `.average()`. By default, the function aggregates the rows of your DataFrame. You can specify `axis='columns'` as an argument to perform the function over the columns.\n",
    "\n",
    "Examples:\n",
    "```python\n",
    "dataframe.count()\n",
    "dataframe.sum(axis='columns')\n",
    "dataframe.average(axis='rows')\n",
    "```\n",
    "\n",
    "You can refer to this list of [Numpy's statistics functions](https://docs.scipy.org/doc/numpy/reference/routines.statistics.html) for a more exhaustive list."
   ]
  },
  {
   "cell_type": "code",
   "execution_count": null,
   "metadata": {
    "colab": {},
    "colab_type": "code",
    "id": "65ziNlbUfDnC",
    "slideshow": {
     "slide_type": "subslide"
    }
   },
   "outputs": [],
   "source": [
    "### TODO ###\n",
    "# Get the total number of recoveries for each day.\n",
    "\n",
    "# YOUR CODE HERE"
   ]
  },
  {
   "cell_type": "markdown",
   "metadata": {
    "colab_type": "text",
    "id": "3X0S-lZ9e4Nl",
    "slideshow": {
     "slide_type": "subslide"
    }
   },
   "source": [
    "### Grouping\n",
    "\n",
    "To perform grouping you need to do the following steps:\n",
    "1. **Split** the dataframe using `.groupby()`\n",
    "2. **Apply** an aggregative function (*e.g.* `sum`, `count`, `mean`)"
   ]
  },
  {
   "cell_type": "code",
   "execution_count": null,
   "metadata": {
    "colab": {
     "base_uri": "https://localhost:8080/",
     "height": 1000
    },
    "colab_type": "code",
    "id": "K12In-ZNbP5b",
    "outputId": "1db84d33-ae10-4216-f5a6-3e5d17bf2eb1",
    "slideshow": {
     "slide_type": "subslide"
    }
   },
   "outputs": [],
   "source": [
    "### TODO ###\n",
    "# Get the total number of recoveries per country for each day.\n",
    "# Hint: Group your data by country, then sum over the aggregated rows.\n",
    "\n",
    "# YOUR CODE HERE"
   ]
  },
  {
   "cell_type": "markdown",
   "metadata": {
    "colab_type": "text",
    "id": "I0oNzJ9rhsKA",
    "slideshow": {
     "slide_type": "slide"
    }
   },
   "source": [
    "## Combining everything"
   ]
  },
  {
   "cell_type": "code",
   "execution_count": null,
   "metadata": {
    "colab": {},
    "colab_type": "code",
    "id": "cEXoX0NOh2WB",
    "slideshow": {
     "slide_type": "subslide"
    }
   },
   "outputs": [],
   "source": [
    "### TODO ###\n",
    "# Do the following on the recovered_df DataFrame:\n",
    "#   1. remove the 'Province/State', 'Lat' and 'Long' columns\n",
    "#   2. group the rows by country\n",
    "#   3. sum over all the aggregated rows\n",
    "#   4. sort the values by decreasing number of recoveries on February 18th, 2020\n",
    "#   5. only keep the first 20 rows\n",
    "\n",
    "# YOUR CODE HERE"
   ]
  },
  {
   "cell_type": "markdown",
   "metadata": {
    "colab_type": "text",
    "id": "ySOb94Nvsef2",
    "slideshow": {
     "slide_type": "slide"
    }
   },
   "source": [
    "## Plot charts"
   ]
  },
  {
   "cell_type": "markdown",
   "metadata": {
    "slideshow": {
     "slide_type": "subslide"
    }
   },
   "source": [
    "We can easily plot charts using `.plot()`. By default, a line chart will be plotted, but you can specify the chart type using `kind='bar'` for example."
   ]
  },
  {
   "cell_type": "markdown",
   "metadata": {
    "slideshow": {
     "slide_type": "subslide"
    }
   },
   "source": [
    "### Recoveries outside of Mainland China"
   ]
  },
  {
   "cell_type": "code",
   "execution_count": null,
   "metadata": {},
   "outputs": [],
   "source": [
    "# Preparing the format of our data to be plotted\n",
    "plot_data = recovered_df.groupby('Country/Region') \\\n",
    "            .sum() \\\n",
    "            [['2/18/20']] \\\n",
    "            .sort_values('2/18/20', ascending=False) \\\n",
    "            .drop('Mainland China') \\\n",
    "            .head(10) \\\n",
    "\n",
    "# Plotting our bar chart\n",
    "plot_data.plot(kind='bar')"
   ]
  },
  {
   "cell_type": "markdown",
   "metadata": {
    "slideshow": {
     "slide_type": "subslide"
    }
   },
   "source": [
    "### Recoveries over time\n",
    "\n",
    "Let's plot the total worldwide number of recoveries over time. We will also plot the number of deaths over time on the same chart."
   ]
  },
  {
   "cell_type": "markdown",
   "metadata": {
    "slideshow": {
     "slide_type": "subslide"
    }
   },
   "source": [
    "#### Using functions\n",
    "\n",
    "We can define functions within our notebook, in order to avoid repeating ourselves when pre-processing our datasets. In this specific instance, we want to plot two separate datasets (`recovered` and `deaths`). The CSVs have the same structure, so we can easily write a function to pre-process our data to be plotted."
   ]
  },
  {
   "cell_type": "code",
   "execution_count": null,
   "metadata": {
    "colab": {},
    "colab_type": "code",
    "id": "RJAkgdnGdATg",
    "slideshow": {
     "slide_type": "fragment"
    }
   },
   "outputs": [],
   "source": [
    "def prepare(data):\n",
    "    return data.drop([\"Province/State\", \"Lat\", \"Long\"], axis=1) \\\n",
    "               .set_index('Country/Region') \\\n",
    "               .sum()\n",
    "\n",
    "# prepare(recovered_df)"
   ]
  },
  {
   "cell_type": "markdown",
   "metadata": {
    "slideshow": {
     "slide_type": "subslide"
    }
   },
   "source": [
    "To plot multiple series on the same chart, we use `pyplot.plot()`."
   ]
  },
  {
   "cell_type": "code",
   "execution_count": null,
   "metadata": {
    "colab": {},
    "colab_type": "code",
    "id": "vDkYWt-IgIDs"
   },
   "outputs": [],
   "source": [
    "# Loading our deaths dataset\n",
    "deaths_df = pd.read_csv(\"data/time_series_19-covid-Deaths.csv\")\n",
    "\n",
    "# Plotting our charts\n",
    "pyplot.plot(prepare(recovered_df), color='g')\n",
    "pyplot.plot(prepare(deaths_df), color='r')"
   ]
  },
  {
   "cell_type": "markdown",
   "metadata": {
    "slideshow": {
     "slide_type": "slide"
    }
   },
   "source": [
    "# Thank you!"
   ]
  },
  {
   "cell_type": "code",
   "execution_count": null,
   "metadata": {
    "slideshow": {
     "slide_type": "skip"
    }
   },
   "outputs": [],
   "source": []
  }
 ],
 "metadata": {
  "colab": {
   "collapsed_sections": [],
   "name": "Data Analysis Workshop - COVID-19.ipynb",
   "provenance": []
  },
  "kernelspec": {
   "display_name": "Python 3",
   "language": "python",
   "name": "python3"
  },
  "language_info": {
   "codemirror_mode": {
    "name": "ipython",
    "version": 3
   },
   "file_extension": ".py",
   "mimetype": "text/x-python",
   "name": "python",
   "nbconvert_exporter": "python",
   "pygments_lexer": "ipython3",
   "version": "3.7.4"
  }
 },
 "nbformat": 4,
 "nbformat_minor": 1
}
